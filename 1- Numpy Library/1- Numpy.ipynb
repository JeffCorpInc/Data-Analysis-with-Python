{
 "cells": [
  {
   "cell_type": "code",
   "execution_count": null,
   "metadata": {},
   "outputs": [],
   "source": [
    "## NUMPY LIBRARY\n",
    "\n",
    "# 0- \n",
    "# 1-\n",
    "# 2-\n",
    "# 3- \n",
    "# 4- "
   ]
  },
  {
   "cell_type": "code",
   "execution_count": null,
   "metadata": {},
   "outputs": [],
   "source": [
    "## NUMPY LIBRARY - It is used for scientific computing. It provide support for arrays and matrices, along with a collection of\n",
    "#                  mathematical functions to operate on these data structures"
   ]
  },
  {
   "cell_type": "code",
   "execution_count": null,
   "metadata": {},
   "outputs": [
    {
     "name": "stdout",
     "output_type": "stream",
     "text": [
      "Collecting numpy\n",
      "  Using cached numpy-2.1.3-cp312-cp312-win_amd64.whl.metadata (60 kB)\n",
      "Using cached numpy-2.1.3-cp312-cp312-win_amd64.whl (12.6 MB)\n",
      "Installing collected packages: numpy\n",
      "Successfully installed numpy-2.1.3\n"
     ]
    }
   ],
   "source": [
    "!pip install numpy                          "
   ]
  },
  {
   "cell_type": "code",
   "execution_count": null,
   "metadata": {},
   "outputs": [
    {
     "name": "stdout",
     "output_type": "stream",
     "text": [
      "<class 'numpy.ndarray'>\n",
      "(5,)\n"
     ]
    }
   ],
   "source": [
    "## IMPORTING NUMPY\n",
    "\n",
    "import numpy as np\n",
    "\n",
    "# One dimension Array\n",
    "\n",
    "arr1 = np.array([1,2,3,4,5])\n",
    "print(type(arr1))\n",
    "print(arr1.shape)                   "
   ]
  },
  {
   "cell_type": "code",
   "execution_count": null,
   "metadata": {},
   "outputs": [
    {
     "data": {
      "text/plain": [
       "array([[1, 2, 3, 4, 5]])"
      ]
     },
     "execution_count": 6,
     "metadata": {},
     "output_type": "execute_result"
    }
   ],
   "source": [
    "arr2 = np.array([1,2,3,4,5])\n",
    "arr2.reshape(1,5)                           # We identify dimensions by brackets"
   ]
  },
  {
   "cell_type": "code",
   "execution_count": null,
   "metadata": {},
   "outputs": [
    {
     "name": "stdout",
     "output_type": "stream",
     "text": [
      "[[1 2 3 4 5]]\n",
      "(1, 5)\n"
     ]
    }
   ],
   "source": [
    "arr2 = np.array([[1,2,3,4,5]])\n",
    "print(arr2)\n",
    "print(arr2.shape)"
   ]
  },
  {
   "cell_type": "code",
   "execution_count": 9,
   "metadata": {},
   "outputs": [
    {
     "name": "stdout",
     "output_type": "stream",
     "text": [
      "(2, 5)\n"
     ]
    }
   ],
   "source": [
    "# Two dimension Array\n",
    "\n",
    "arr2 = np.array([[1,2,3,4,5],[6,7,8,9,10]])\n",
    "print(arr2.shape)"
   ]
  },
  {
   "cell_type": "code",
   "execution_count": null,
   "metadata": {},
   "outputs": [
    {
     "data": {
      "text/plain": [
       "array([[0],\n",
       "       [2],\n",
       "       [4],\n",
       "       [6],\n",
       "       [8]])"
      ]
     },
     "execution_count": 20,
     "metadata": {},
     "output_type": "execute_result"
    }
   ],
   "source": [
    "## IN_BUILT FUNTIONS/ATTRIBUTES IN NUMPY\n",
    "\n",
    "np.arange(0,10,2).reshape(5,1)"
   ]
  },
  {
   "cell_type": "code",
   "execution_count": null,
   "metadata": {},
   "outputs": [
    {
     "data": {
      "text/plain": [
       "array([[1., 1., 1., 1.],\n",
       "       [1., 1., 1., 1.],\n",
       "       [1., 1., 1., 1.]])"
      ]
     },
     "execution_count": 23,
     "metadata": {},
     "output_type": "execute_result"
    }
   ],
   "source": [
    "np.ones((3,4))                      # (rows,columns)"
   ]
  },
  {
   "cell_type": "code",
   "execution_count": null,
   "metadata": {},
   "outputs": [
    {
     "data": {
      "text/plain": [
       "array([[0., 0., 0., 0.],\n",
       "       [0., 0., 0., 0.]])"
      ]
     },
     "execution_count": 24,
     "metadata": {},
     "output_type": "execute_result"
    }
   ],
   "source": [
    "np.zeros((2,4))                     # (rows,columns)"
   ]
  },
  {
   "cell_type": "code",
   "execution_count": null,
   "metadata": {},
   "outputs": [
    {
     "data": {
      "text/plain": [
       "array([[1., 0., 0.],\n",
       "       [0., 1., 0.],\n",
       "       [0., 0., 1.]])"
      ]
     },
     "execution_count": 28,
     "metadata": {},
     "output_type": "execute_result"
    }
   ],
   "source": [
    "# Identity Matrix\n",
    "\n",
    "np.eye(3)"
   ]
  },
  {
   "cell_type": "code",
   "execution_count": null,
   "metadata": {},
   "outputs": [
    {
     "name": "stdout",
     "output_type": "stream",
     "text": [
      "Array: \n",
      " [[1 2 3 4 5]\n",
      " [6 7 8 9 0]]\n",
      "Shape: (2, 5)\n",
      "Number of Dimensions: 2\n",
      "Size of Array: 10\n",
      "Data Type: int64\n",
      "Item Size (in Bytes): 8\n"
     ]
    }
   ],
   "source": [
    "arr = np.array([[1,2,3,4,5],[6,7,8,9,0]])\n",
    "\n",
    "print(\"Array: \\n\", arr)\n",
    "print(\"Shape:\",arr.shape)\n",
    "print(\"Number of Dimensions:\",arr.ndim)\n",
    "print(\"Size of Array:\",arr.size)\n",
    "print(\"Data Type:\",arr.dtype)\n",
    "print(\"Item Size (in Bytes):\",arr.itemsize)"
   ]
  },
  {
   "cell_type": "code",
   "execution_count": null,
   "metadata": {},
   "outputs": [
    {
     "name": "stdout",
     "output_type": "stream",
     "text": [
      "Addition:  [12 14 16 18 20 22]\n",
      "Substraction:  [-10 -10 -10 -10 -10 -10]\n",
      "Multiplication:  [11 24 39 56 75 96]\n",
      "Division:  [0.09090909 0.16666667 0.23076923 0.28571429 0.33333333 0.375     ]\n"
     ]
    }
   ],
   "source": [
    "## VECTORIZED OPERATIONS\n",
    "\n",
    "arr1 = np.array([1,2,3,4,5,6])                      # Numpy automatically perform operations on index basis\n",
    "arr2 = np.array([11,12,13,14,15,16])\n",
    "\n",
    "# Addition\n",
    "print(\"Addition: \", arr1+arr2)\n",
    "\n",
    "# Substraction\n",
    "print(\"Substraction: \", arr1-arr2)\n",
    "\n",
    "# Multiplication\n",
    "print(\"Multiplication: \", arr1*arr2)\n",
    "\n",
    "# Division\n",
    "print(\"Division: \", arr1/arr2)"
   ]
  },
  {
   "cell_type": "code",
   "execution_count": 33,
   "metadata": {},
   "outputs": [
    {
     "name": "stdout",
     "output_type": "stream",
     "text": [
      "[1.         1.41421356 1.73205081 2.         2.23606798 2.44948974]\n",
      "[  2.71828183   7.3890561   20.08553692  54.59815003 148.4131591\n",
      " 403.42879349]\n",
      "[ 0.84147098  0.90929743  0.14112001 -0.7568025  -0.95892427 -0.2794155 ]\n",
      "[0.         0.69314718 1.09861229 1.38629436 1.60943791 1.79175947]\n"
     ]
    }
   ],
   "source": [
    "## UNIVERSAL FUNCTIONS\n",
    "\n",
    "arr = np.array([1,2,3,4,5,6])\n",
    "\n",
    "# Square Root\n",
    "print(np.sqrt(arr))\n",
    "\n",
    "# Exponential\n",
    "print(np.exp(arr))\n",
    "\n",
    "# Sine\n",
    "print(np.sin(arr))\n",
    "\n",
    "# Natural Log\n",
    "print(np.log(arr))"
   ]
  },
  {
   "cell_type": "code",
   "execution_count": null,
   "metadata": {},
   "outputs": [
    {
     "name": "stdout",
     "output_type": "stream",
     "text": [
      "ARRAY: \n",
      " [[ 1  2  3  4]\n",
      " [ 5  6  7  8]\n",
      " [10 11 12 14]]\n"
     ]
    }
   ],
   "source": [
    "## SLICING ON ARRAYS\n",
    "\n",
    "arr = np.array([\n",
    "\n",
    "    [1,2,3,4],\n",
    "    [5,6,7,8],\n",
    "    [10,11,12,14]\n",
    "])\n",
    "\n",
    "print(\"ARRAY: \\n\",arr)"
   ]
  },
  {
   "cell_type": "code",
   "execution_count": 39,
   "metadata": {},
   "outputs": [
    {
     "name": "stdout",
     "output_type": "stream",
     "text": [
      "[[1 2 3 4]]\n",
      "[[6 7]]\n"
     ]
    }
   ],
   "source": [
    "print(arr[0:1])\n",
    "print(arr[1:2,1:3])"
   ]
  },
  {
   "cell_type": "code",
   "execution_count": 40,
   "metadata": {},
   "outputs": [
    {
     "name": "stdout",
     "output_type": "stream",
     "text": [
      "[[100   2   3   4]\n",
      " [  5   6   7   8]\n",
      " [ 10  11  12  14]]\n"
     ]
    }
   ],
   "source": [
    "## MODYFYING ARRAY\n",
    "\n",
    "arr[0,0]=100\n",
    "print(arr)"
   ]
  },
  {
   "cell_type": "code",
   "execution_count": 41,
   "metadata": {},
   "outputs": [
    {
     "name": "stdout",
     "output_type": "stream",
     "text": [
      "[[100   2   3   4]\n",
      " [ 99  99  99  99]\n",
      " [ 99  99  99  99]]\n"
     ]
    }
   ],
   "source": [
    "arr[1:]=99\n",
    "print(arr)"
   ]
  },
  {
   "cell_type": "code",
   "execution_count": 46,
   "metadata": {},
   "outputs": [
    {
     "name": "stdout",
     "output_type": "stream",
     "text": [
      "Mean 5.5\n",
      "Median 5.5\n",
      "Standard Deviation 2.8722813232690143\n",
      "Variance 8.25\n"
     ]
    }
   ],
   "source": [
    "## STATISTICAL CONCEPTS - NORMALIZATION\n",
    "\n",
    "array = [1,2,3,4,5,6,7,8,9,10]\n",
    "\n",
    "# Mean \n",
    "mean = np.mean(array)\n",
    "print(\"Mean\",mean)\n",
    "\n",
    "# Mean \n",
    "median = np.median(array)\n",
    "print(\"Median\",median)\n",
    "\n",
    "# Standard Deviation \n",
    "std_dev = np.std(array)\n",
    "print(\"Standard Deviation\",std_dev)\n",
    "\n",
    "# Variance \n",
    "variance = np.var(array)\n",
    "print(\"Variance\",variance)\n",
    "\n"
   ]
  },
  {
   "cell_type": "code",
   "execution_count": 48,
   "metadata": {},
   "outputs": [
    {
     "data": {
      "text/plain": [
       "array([4, 5, 6, 7, 8, 9])"
      ]
     },
     "execution_count": 48,
     "metadata": {},
     "output_type": "execute_result"
    }
   ],
   "source": [
    "## LOGICAL OPERATIONS\n",
    "\n",
    "data = np.array([1,2,3,4,5,6,7,8,9])\n",
    "\n",
    "data[data>3]"
   ]
  },
  {
   "cell_type": "code",
   "execution_count": null,
   "metadata": {},
   "outputs": [],
   "source": []
  }
 ],
 "metadata": {
  "kernelspec": {
   "display_name": "Python 3",
   "language": "python",
   "name": "python3"
  },
  "language_info": {
   "codemirror_mode": {
    "name": "ipython",
    "version": 3
   },
   "file_extension": ".py",
   "mimetype": "text/x-python",
   "name": "python",
   "nbconvert_exporter": "python",
   "pygments_lexer": "ipython3",
   "version": "3.12.0"
  }
 },
 "nbformat": 4,
 "nbformat_minor": 2
}
